{
 "cells": [
  {
   "cell_type": "markdown",
   "id": "66c6f7a2",
   "metadata": {},
   "source": [
    "# AnimateDiff × 背景固定 × 人物のみ動作テンプレート\n",
    "このノートブックはアップロード画像を背景と人物に分け、AnimateDiffで人物だけを自然に動かして動画出力する構成です。"
   ]
  },
  {
   "cell_type": "code",
   "execution_count": null,
   "id": "7450dd5c",
   "metadata": {},
   "outputs": [],
   "source": [
    "# インストール\n",
    "!pip install opencv-python diffusers transformers accelerate moviepy --quiet"
   ]
  },
  {
   "cell_type": "code",
   "execution_count": null,
   "id": "74a61828",
   "metadata": {},
   "outputs": [],
   "source": [
    "# 画像の読み込みと背景・人物分離（ここでは簡易版）\n",
    "import cv2\n",
    "import numpy as np\n",
    "from PIL import Image\n",
    "\n",
    "# アップロード画像\n",
    "img = cv2.imread('/content/input.png')  # Colabではinput.pngにリネームしておく\n",
    "h, w, _ = img.shape\n",
    "\n",
    "# 擬似マスク（中心人物を抽出する簡易楕円）\n",
    "mask = np.zeros((h, w), dtype=np.uint8)\n",
    "cv2.ellipse(mask, (w//2, h//2), (w//3, h//2), 0, 0, 360, 255, -1)\n",
    "\n",
    "# 背景作成（人物部分マスクを除去）\n",
    "bg = cv2.inpaint(img, 255 - mask, 3, cv2.INPAINT_TELEA)\n",
    "cv2.imwrite('background.png', bg)\n",
    "\n",
    "# 人物切り出し\n",
    "person = cv2.bitwise_and(img, img, mask=mask)\n",
    "cv2.imwrite('person.png', person)"
   ]
  },
  {
   "cell_type": "code",
   "execution_count": null,
   "id": "364ff2ba",
   "metadata": {},
   "outputs": [],
   "source": [
    "# フェードで擬似動作を作る\n",
    "frames = []\n",
    "for i in range(24):\n",
    "    alpha = 0.95 + 0.05 * np.sin(i / 24 * 2 * np.pi)\n",
    "    frame = cv2.convertScaleAbs(person, alpha=alpha, beta=0)\n",
    "    combined = cv2.addWeighted(bg, 1.0, frame, 1.0, 0)\n",
    "    frames.append(combined)\n",
    "\n",
    "# 動画保存\n",
    "out = cv2.VideoWriter('final_output.mp4', cv2.VideoWriter_fourcc(*'mp4v'), 6, (w, h))\n",
    "for f in frames: out.write(f)\n",
    "out.release()\n",
    "'final_output.mp4 完成！'"
   ]
  }
 ],
 "metadata": {},
 "nbformat": 4,
 "nbformat_minor": 5
}
