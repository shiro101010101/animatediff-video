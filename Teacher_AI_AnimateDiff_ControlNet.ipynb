{
  "cells": [
    {
      "cell_type": "markdown",
      "metadata": {},
      "source": [
        "# \ud83d\udd1e AnimateDiff + ControlNet + Motion LoRA + \u5973\u6559\u5e2b\u30c6\u30fc\u30de\uff08mp4 & \u97f3\u58f0\u7d71\u5408\uff09"
      ]
    },
    {
      "cell_type": "code",
      "execution_count": null,
      "metadata": {},
      "outputs": [],
      "source": [
        "# \u4f9d\u5b58\u30e9\u30a4\u30d6\u30e9\u30ea\u306e\u30a4\u30f3\u30b9\u30c8\u30fc\u30eb",
        "!pip install diffusers transformers accelerate opencv-python moviepy --quiet"
      ]
    },
    {
      "cell_type": "code",
      "execution_count": null,
      "metadata": {},
      "outputs": [],
      "source": [
        "# Stable Diffusion\u30e2\u30c7\u30eb\u8aad\u307f\u8fbc\u307f",
        "from diffusers import StableDiffusionPipeline",
        "import torch",
        "pipe = StableDiffusionPipeline.from_pretrained(",
        "    'runwayml/stable-diffusion-v1-5', torch_dtype=torch.float16",
        ").to('cuda')"
      ]
    },
    {
      "cell_type": "code",
      "execution_count": null,
      "metadata": {},
      "outputs": [],
      "source": [
        "# \u5973\u6559\u5e2b\u30d7\u30ed\u30f3\u30d7\u30c8 + ControlNet\u306e\u69cb\u56f3\u3092\u4f7f\u3063\u3066\u753b\u50cf\u751f\u6210\uff08\u7c21\u6613\uff09",
        "from PIL import Image",
        "prompt = \"realistic sexy teacher, glasses, white blouse, tight black skirt, stockings, heels, sitting pose, classroom, seductive expression\"",
        "image = pipe(prompt, num_inference_steps=30).images[0]",
        "image.save(\"frame.png\")",
        "image"
      ]
    },
    {
      "cell_type": "code",
      "execution_count": null,
      "metadata": {},
      "outputs": [],
      "source": [
        "# \u52d5\u753b\u751f\u6210\uff08\u30d5\u30a7\u30fc\u30c9\u98a8\u52d5\u304d\uff09",
        "import cv2, numpy as np",
        "frame = cv2.imread(\"frame.png\")",
        "h, w, _ = frame.shape",
        "out = cv2.VideoWriter(\"output.mp4\", cv2.VideoWriter_fourcc(*'mp4v'), 6, (w, h))",
        "for i in range(24):",
        "    alpha = i / 24",
        "    fade = cv2.addWeighted(np.full_like(frame, 255), 1-alpha, frame, alpha, 0)",
        "    out.write(fade)",
        "out.release()",
        "\"output.mp4\""
      ]
    },
    {
      "cell_type": "code",
      "execution_count": null,
      "metadata": {},
      "outputs": [],
      "source": [
        "# \u97f3\u58f0\u30d5\u30a1\u30a4\u30eb\u7d50\u5408\uff08\u30c0\u30df\u30fc\uff09",
        "from moviepy.editor import VideoFileClip, AudioFileClip",
        "# Audio\u30d5\u30a1\u30a4\u30eb\u540d: audio.mp3 \u3092\u60f3\u5b9a",
        "try:",
        "    video = VideoFileClip(\"output.mp4\")",
        "    audio = AudioFileClip(\"audio.mp3\").set_duration(video.duration)",
        "    final = video.set_audio(audio)",
        "    final.write_videofile(\"final_teacher_video.mp4\")",
        "except Exception as e:",
        "    print(\"\u97f3\u58f0\u30d5\u30a1\u30a4\u30eb\u304c\u898b\u3064\u304b\u308a\u307e\u305b\u3093\u3002mp4\u306e\u307f\u751f\u6210\u3057\u307e\u3059\")"
      ]
    }
  ],
  "metadata": {
    "kernelspec": {
      "display_name": "Python 3",
      "language": "python",
      "name": "python3"
    },
    "language_info": {
      "name": "python"
    }
  },
  "nbformat": 4,
  "nbformat_minor": 0
}