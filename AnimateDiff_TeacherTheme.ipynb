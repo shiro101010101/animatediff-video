{
 "cells": [
  {
   "cell_type": "markdown",
   "metadata": {},
   "source": [
    "# AnimateDiff + ControlNet + 女教師プロンプト (NSFW)"
   ]
  },
  {
   "cell_type": "code",
   "execution_count": null,
   "metadata": {},
   "outputs": [],
   "source": [
    "# モデルのセットアップ例（diffusers & AnimateDiff）\n",
    "from diffusers import StableDiffusionPipeline\n",
    "import torch\n",
    "\n",
    "pipe = StableDiffusionPipeline.from_pretrained(\n",
    "    'runwayml/stable-diffusion-v1-5', torch_dtype=torch.float16\n",
    ").to('cuda')"
   ]
  },
  {
   "cell_type": "code",
   "execution_count": null,
   "metadata": {},
   "outputs": [],
   "source": [
    "# 女教師テーマプロンプト例\n",
    "prompt = "realistic mature woman, sexy teacher, glasses, black pencil skirt, white blouse, long brown hair, sitting on a desk, seductive expression, stockings, heels, soft lighting, detailed eyes, realistic skin, looking at camera, classroom background"\n",
    "image = pipe(prompt, num_inference_steps=30).images[0]\n",
    "image.save("teacher_sample.png")"
   ]
  }
 ],
 "metadata": {
  "colab": {
   "provenance": []
  },
  "kernelspec": {
   "display_name": "Python 3",
   "language": "python",
   "name": "python3"
  },
  "language_info": {
   "name": "python"
  }
 },
 "nbformat": 4,
 "nbformat_minor": 0
}
