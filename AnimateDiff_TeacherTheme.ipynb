{
  "cells": [
    {
      "cell_type": "markdown",
      "metadata": {},
      "source": [
        "# AnimateDiff + ControlNet + \u5973\u6559\u5e2b\u30d7\u30ed\u30f3\u30d7\u30c8 (NSFW)\n",
        "\u3053\u306e\u30ce\u30fc\u30c8\u30d6\u30c3\u30af\u306f\u3001\u30bb\u30af\u30b7\u30fc\u306a\u5973\u6559\u5e2bAI\u753b\u50cf\u3092\u751f\u6210\u3059\u308b\u30c6\u30f3\u30d7\u30ec\u30fc\u30c8\u3067\u3059\u3002"
      ]
    },
    {
      "cell_type": "code",
      "execution_count": null,
      "metadata": {},
      "outputs": [],
      "source": [
        "# \u5fc5\u8981\u306a\u30e9\u30a4\u30d6\u30e9\u30ea\u3092\u30a4\u30f3\u30b9\u30c8\u30fc\u30eb\n",
        "!pip install diffusers transformers accelerate safetensors --quiet"
      ]
    },
    {
      "cell_type": "code",
      "execution_count": null,
      "metadata": {},
      "outputs": [],
      "source": [
        "# \u30e2\u30c7\u30eb\u8aad\u307f\u8fbc\u307f\n",
        "from diffusers import StableDiffusionPipeline\n",
        "import torch\n",
        "pipe = StableDiffusionPipeline.from_pretrained(\n",
        "    'runwayml/stable-diffusion-v1-5', torch_dtype=torch.float16\n",
        ").to('cuda')"
      ]
    },
    {
      "cell_type": "code",
      "execution_count": null,
      "metadata": {},
      "outputs": [],
      "source": [
        "# \u5973\u6559\u5e2b\u30d7\u30ed\u30f3\u30d7\u30c8\u3067\u753b\u50cf\u751f\u6210\n",
        "prompt = \"realistic mature woman, sexy teacher, glasses, black pencil skirt, white blouse, long brown hair, sitting on a desk, seductive expression, stockings, heels, soft lighting, detailed eyes, realistic skin, looking at camera, classroom background\"\n",
        "image = pipe(prompt, num_inference_steps=30).images[0]\n",
        "image.save(\"teacher_sample.png\")\n",
        "image"
      ]
    }
  ],
  "metadata": {
    "kernelspec": {
      "display_name": "Python 3",
      "language": "python",
      "name": "python3"
    },
    "language_info": {
      "name": "python"
    }
  },
  "nbformat": 4,
  "nbformat_minor": 0
}